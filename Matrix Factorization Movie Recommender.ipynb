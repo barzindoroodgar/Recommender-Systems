{
 "cells": [
  {
   "cell_type": "markdown",
   "metadata": {},
   "source": [
    "This notebook implements a Movie recommender algorithm using Matrix Factorization. \n",
    "\n",
    "A user-movie ratings matrix is an overcomplicated representation of users' tastes in movies. By performing dimensionality reduction on this matrix we reduce compuational complexity for our movie predictions, and get a more compact and representation of users' tastes. To do this, we use singular value decomposition (SVD) to decompose the user-movie ratings matrix into k latent factors. This method decoposes the ratings matrix (R) into three matrices for user's matrix U, item's matrix V and a diagonal matrix S, that contains the singular values representing how important each latent factor is in expressing R.\n",
    "\n",
    "R = U x S x VT\n",
    "\n",
    "(VT is V transposed)"
   ]
  },
  {
   "cell_type": "code",
   "execution_count": 40,
   "metadata": {},
   "outputs": [],
   "source": [
    "import os\n",
    "import pandas as pd\n",
    "import numpy as np"
   ]
  },
  {
   "cell_type": "markdown",
   "metadata": {},
   "source": [
    "Read movielens files and explore our movies and ratings data"
   ]
  },
  {
   "cell_type": "code",
   "execution_count": 41,
   "metadata": {},
   "outputs": [],
   "source": [
    "# configure file path\n",
    "data_path = 'data/movielens-small'\n",
    "movies_filename = 'movies.csv'\n",
    "ratings_filename = 'ratings.csv'\n",
    "\n",
    "# read data\n",
    "df_movies = pd.read_csv(\n",
    "    os.path.join(data_path, movies_filename),\n",
    "    usecols=['movieId', 'title'],\n",
    "    dtype={'movieId': 'int32', 'title': 'str'})\n",
    "\n",
    "df_ratings = pd.read_csv(\n",
    "    os.path.join(data_path, ratings_filename),\n",
    "    usecols=['userId', 'movieId', 'rating'],\n",
    "    dtype={'userId': 'int32', 'movieId': 'int32', 'rating': 'float32'})"
   ]
  },
  {
   "cell_type": "code",
   "execution_count": 42,
   "metadata": {},
   "outputs": [
    {
     "data": {
      "text/plain": [
       "(9742, 2)"
      ]
     },
     "execution_count": 42,
     "metadata": {},
     "output_type": "execute_result"
    }
   ],
   "source": [
    "df_movies.shape"
   ]
  },
  {
   "cell_type": "code",
   "execution_count": 43,
   "metadata": {},
   "outputs": [
    {
     "data": {
      "text/html": [
       "<div>\n",
       "<style scoped>\n",
       "    .dataframe tbody tr th:only-of-type {\n",
       "        vertical-align: middle;\n",
       "    }\n",
       "\n",
       "    .dataframe tbody tr th {\n",
       "        vertical-align: top;\n",
       "    }\n",
       "\n",
       "    .dataframe thead th {\n",
       "        text-align: right;\n",
       "    }\n",
       "</style>\n",
       "<table border=\"1\" class=\"dataframe\">\n",
       "  <thead>\n",
       "    <tr style=\"text-align: right;\">\n",
       "      <th></th>\n",
       "      <th>movieId</th>\n",
       "      <th>title</th>\n",
       "    </tr>\n",
       "  </thead>\n",
       "  <tbody>\n",
       "    <tr>\n",
       "      <th>0</th>\n",
       "      <td>1</td>\n",
       "      <td>Toy Story (1995)</td>\n",
       "    </tr>\n",
       "    <tr>\n",
       "      <th>1</th>\n",
       "      <td>2</td>\n",
       "      <td>Jumanji (1995)</td>\n",
       "    </tr>\n",
       "    <tr>\n",
       "      <th>2</th>\n",
       "      <td>3</td>\n",
       "      <td>Grumpier Old Men (1995)</td>\n",
       "    </tr>\n",
       "    <tr>\n",
       "      <th>3</th>\n",
       "      <td>4</td>\n",
       "      <td>Waiting to Exhale (1995)</td>\n",
       "    </tr>\n",
       "    <tr>\n",
       "      <th>4</th>\n",
       "      <td>5</td>\n",
       "      <td>Father of the Bride Part II (1995)</td>\n",
       "    </tr>\n",
       "  </tbody>\n",
       "</table>\n",
       "</div>"
      ],
      "text/plain": [
       "   movieId                               title\n",
       "0        1                    Toy Story (1995)\n",
       "1        2                      Jumanji (1995)\n",
       "2        3             Grumpier Old Men (1995)\n",
       "3        4            Waiting to Exhale (1995)\n",
       "4        5  Father of the Bride Part II (1995)"
      ]
     },
     "execution_count": 43,
     "metadata": {},
     "output_type": "execute_result"
    }
   ],
   "source": [
    "df_movies.head()"
   ]
  },
  {
   "cell_type": "code",
   "execution_count": 44,
   "metadata": {},
   "outputs": [
    {
     "data": {
      "text/plain": [
       "(100836, 3)"
      ]
     },
     "execution_count": 44,
     "metadata": {},
     "output_type": "execute_result"
    }
   ],
   "source": [
    "df_ratings.shape"
   ]
  },
  {
   "cell_type": "code",
   "execution_count": 45,
   "metadata": {},
   "outputs": [
    {
     "data": {
      "text/html": [
       "<div>\n",
       "<style scoped>\n",
       "    .dataframe tbody tr th:only-of-type {\n",
       "        vertical-align: middle;\n",
       "    }\n",
       "\n",
       "    .dataframe tbody tr th {\n",
       "        vertical-align: top;\n",
       "    }\n",
       "\n",
       "    .dataframe thead th {\n",
       "        text-align: right;\n",
       "    }\n",
       "</style>\n",
       "<table border=\"1\" class=\"dataframe\">\n",
       "  <thead>\n",
       "    <tr style=\"text-align: right;\">\n",
       "      <th></th>\n",
       "      <th>userId</th>\n",
       "      <th>movieId</th>\n",
       "      <th>rating</th>\n",
       "    </tr>\n",
       "  </thead>\n",
       "  <tbody>\n",
       "    <tr>\n",
       "      <th>0</th>\n",
       "      <td>1</td>\n",
       "      <td>1</td>\n",
       "      <td>4.0</td>\n",
       "    </tr>\n",
       "    <tr>\n",
       "      <th>1</th>\n",
       "      <td>1</td>\n",
       "      <td>3</td>\n",
       "      <td>4.0</td>\n",
       "    </tr>\n",
       "    <tr>\n",
       "      <th>2</th>\n",
       "      <td>1</td>\n",
       "      <td>6</td>\n",
       "      <td>4.0</td>\n",
       "    </tr>\n",
       "    <tr>\n",
       "      <th>3</th>\n",
       "      <td>1</td>\n",
       "      <td>47</td>\n",
       "      <td>5.0</td>\n",
       "    </tr>\n",
       "    <tr>\n",
       "      <th>4</th>\n",
       "      <td>1</td>\n",
       "      <td>50</td>\n",
       "      <td>5.0</td>\n",
       "    </tr>\n",
       "  </tbody>\n",
       "</table>\n",
       "</div>"
      ],
      "text/plain": [
       "   userId  movieId  rating\n",
       "0       1        1     4.0\n",
       "1       1        3     4.0\n",
       "2       1        6     4.0\n",
       "3       1       47     5.0\n",
       "4       1       50     5.0"
      ]
     },
     "execution_count": 45,
     "metadata": {},
     "output_type": "execute_result"
    }
   ],
   "source": [
    "df_ratings.head()"
   ]
  },
  {
   "cell_type": "markdown",
   "metadata": {},
   "source": [
    "Create R matrix by pivoting ratings into movies, with users as the rows and movies as columns"
   ]
  },
  {
   "cell_type": "code",
   "execution_count": 46,
   "metadata": {},
   "outputs": [
    {
     "name": "stdout",
     "output_type": "stream",
     "text": [
      "(610, 9724)\n"
     ]
    },
    {
     "data": {
      "text/html": [
       "<div>\n",
       "<style scoped>\n",
       "    .dataframe tbody tr th:only-of-type {\n",
       "        vertical-align: middle;\n",
       "    }\n",
       "\n",
       "    .dataframe tbody tr th {\n",
       "        vertical-align: top;\n",
       "    }\n",
       "\n",
       "    .dataframe thead th {\n",
       "        text-align: right;\n",
       "    }\n",
       "</style>\n",
       "<table border=\"1\" class=\"dataframe\">\n",
       "  <thead>\n",
       "    <tr style=\"text-align: right;\">\n",
       "      <th>movieId</th>\n",
       "      <th>1</th>\n",
       "      <th>2</th>\n",
       "      <th>3</th>\n",
       "      <th>4</th>\n",
       "      <th>5</th>\n",
       "      <th>6</th>\n",
       "      <th>7</th>\n",
       "      <th>8</th>\n",
       "      <th>9</th>\n",
       "      <th>10</th>\n",
       "      <th>...</th>\n",
       "      <th>193565</th>\n",
       "      <th>193567</th>\n",
       "      <th>193571</th>\n",
       "      <th>193573</th>\n",
       "      <th>193579</th>\n",
       "      <th>193581</th>\n",
       "      <th>193583</th>\n",
       "      <th>193585</th>\n",
       "      <th>193587</th>\n",
       "      <th>193609</th>\n",
       "    </tr>\n",
       "    <tr>\n",
       "      <th>userId</th>\n",
       "      <th></th>\n",
       "      <th></th>\n",
       "      <th></th>\n",
       "      <th></th>\n",
       "      <th></th>\n",
       "      <th></th>\n",
       "      <th></th>\n",
       "      <th></th>\n",
       "      <th></th>\n",
       "      <th></th>\n",
       "      <th></th>\n",
       "      <th></th>\n",
       "      <th></th>\n",
       "      <th></th>\n",
       "      <th></th>\n",
       "      <th></th>\n",
       "      <th></th>\n",
       "      <th></th>\n",
       "      <th></th>\n",
       "      <th></th>\n",
       "      <th></th>\n",
       "    </tr>\n",
       "  </thead>\n",
       "  <tbody>\n",
       "    <tr>\n",
       "      <th>1</th>\n",
       "      <td>4.0</td>\n",
       "      <td>0.0</td>\n",
       "      <td>4.0</td>\n",
       "      <td>0.0</td>\n",
       "      <td>0.0</td>\n",
       "      <td>4.0</td>\n",
       "      <td>0.0</td>\n",
       "      <td>0.0</td>\n",
       "      <td>0.0</td>\n",
       "      <td>0.0</td>\n",
       "      <td>...</td>\n",
       "      <td>0.0</td>\n",
       "      <td>0.0</td>\n",
       "      <td>0.0</td>\n",
       "      <td>0.0</td>\n",
       "      <td>0.0</td>\n",
       "      <td>0.0</td>\n",
       "      <td>0.0</td>\n",
       "      <td>0.0</td>\n",
       "      <td>0.0</td>\n",
       "      <td>0.0</td>\n",
       "    </tr>\n",
       "    <tr>\n",
       "      <th>2</th>\n",
       "      <td>0.0</td>\n",
       "      <td>0.0</td>\n",
       "      <td>0.0</td>\n",
       "      <td>0.0</td>\n",
       "      <td>0.0</td>\n",
       "      <td>0.0</td>\n",
       "      <td>0.0</td>\n",
       "      <td>0.0</td>\n",
       "      <td>0.0</td>\n",
       "      <td>0.0</td>\n",
       "      <td>...</td>\n",
       "      <td>0.0</td>\n",
       "      <td>0.0</td>\n",
       "      <td>0.0</td>\n",
       "      <td>0.0</td>\n",
       "      <td>0.0</td>\n",
       "      <td>0.0</td>\n",
       "      <td>0.0</td>\n",
       "      <td>0.0</td>\n",
       "      <td>0.0</td>\n",
       "      <td>0.0</td>\n",
       "    </tr>\n",
       "    <tr>\n",
       "      <th>3</th>\n",
       "      <td>0.0</td>\n",
       "      <td>0.0</td>\n",
       "      <td>0.0</td>\n",
       "      <td>0.0</td>\n",
       "      <td>0.0</td>\n",
       "      <td>0.0</td>\n",
       "      <td>0.0</td>\n",
       "      <td>0.0</td>\n",
       "      <td>0.0</td>\n",
       "      <td>0.0</td>\n",
       "      <td>...</td>\n",
       "      <td>0.0</td>\n",
       "      <td>0.0</td>\n",
       "      <td>0.0</td>\n",
       "      <td>0.0</td>\n",
       "      <td>0.0</td>\n",
       "      <td>0.0</td>\n",
       "      <td>0.0</td>\n",
       "      <td>0.0</td>\n",
       "      <td>0.0</td>\n",
       "      <td>0.0</td>\n",
       "    </tr>\n",
       "    <tr>\n",
       "      <th>4</th>\n",
       "      <td>0.0</td>\n",
       "      <td>0.0</td>\n",
       "      <td>0.0</td>\n",
       "      <td>0.0</td>\n",
       "      <td>0.0</td>\n",
       "      <td>0.0</td>\n",
       "      <td>0.0</td>\n",
       "      <td>0.0</td>\n",
       "      <td>0.0</td>\n",
       "      <td>0.0</td>\n",
       "      <td>...</td>\n",
       "      <td>0.0</td>\n",
       "      <td>0.0</td>\n",
       "      <td>0.0</td>\n",
       "      <td>0.0</td>\n",
       "      <td>0.0</td>\n",
       "      <td>0.0</td>\n",
       "      <td>0.0</td>\n",
       "      <td>0.0</td>\n",
       "      <td>0.0</td>\n",
       "      <td>0.0</td>\n",
       "    </tr>\n",
       "    <tr>\n",
       "      <th>5</th>\n",
       "      <td>4.0</td>\n",
       "      <td>0.0</td>\n",
       "      <td>0.0</td>\n",
       "      <td>0.0</td>\n",
       "      <td>0.0</td>\n",
       "      <td>0.0</td>\n",
       "      <td>0.0</td>\n",
       "      <td>0.0</td>\n",
       "      <td>0.0</td>\n",
       "      <td>0.0</td>\n",
       "      <td>...</td>\n",
       "      <td>0.0</td>\n",
       "      <td>0.0</td>\n",
       "      <td>0.0</td>\n",
       "      <td>0.0</td>\n",
       "      <td>0.0</td>\n",
       "      <td>0.0</td>\n",
       "      <td>0.0</td>\n",
       "      <td>0.0</td>\n",
       "      <td>0.0</td>\n",
       "      <td>0.0</td>\n",
       "    </tr>\n",
       "  </tbody>\n",
       "</table>\n",
       "<p>5 rows × 9724 columns</p>\n",
       "</div>"
      ],
      "text/plain": [
       "movieId  1       2       3       4       5       6       7       8       \\\n",
       "userId                                                                    \n",
       "1           4.0     0.0     4.0     0.0     0.0     4.0     0.0     0.0   \n",
       "2           0.0     0.0     0.0     0.0     0.0     0.0     0.0     0.0   \n",
       "3           0.0     0.0     0.0     0.0     0.0     0.0     0.0     0.0   \n",
       "4           0.0     0.0     0.0     0.0     0.0     0.0     0.0     0.0   \n",
       "5           4.0     0.0     0.0     0.0     0.0     0.0     0.0     0.0   \n",
       "\n",
       "movieId  9       10      ...  193565  193567  193571  193573  193579  193581  \\\n",
       "userId                   ...                                                   \n",
       "1           0.0     0.0  ...     0.0     0.0     0.0     0.0     0.0     0.0   \n",
       "2           0.0     0.0  ...     0.0     0.0     0.0     0.0     0.0     0.0   \n",
       "3           0.0     0.0  ...     0.0     0.0     0.0     0.0     0.0     0.0   \n",
       "4           0.0     0.0  ...     0.0     0.0     0.0     0.0     0.0     0.0   \n",
       "5           0.0     0.0  ...     0.0     0.0     0.0     0.0     0.0     0.0   \n",
       "\n",
       "movieId  193583  193585  193587  193609  \n",
       "userId                                   \n",
       "1           0.0     0.0     0.0     0.0  \n",
       "2           0.0     0.0     0.0     0.0  \n",
       "3           0.0     0.0     0.0     0.0  \n",
       "4           0.0     0.0     0.0     0.0  \n",
       "5           0.0     0.0     0.0     0.0  \n",
       "\n",
       "[5 rows x 9724 columns]"
      ]
     },
     "execution_count": 46,
     "metadata": {},
     "output_type": "execute_result"
    }
   ],
   "source": [
    "df_R = df_ratings.pivot(\n",
    "    index='userId',\n",
    "    columns='movieId',\n",
    "    values='rating'\n",
    ").fillna(0)\n",
    "\n",
    "print(df_R.shape)\n",
    "df_R.head()"
   ]
  },
  {
   "cell_type": "markdown",
   "metadata": {},
   "source": [
    "Normalize the ratings matrix by subtracting the mean user ratings"
   ]
  },
  {
   "cell_type": "code",
   "execution_count": 47,
   "metadata": {},
   "outputs": [
    {
     "data": {
      "text/plain": [
       "array([[ 3.8958247 , -0.10417524,  3.8958247 , ..., -0.10417524,\n",
       "        -0.10417524, -0.10417524],\n",
       "       [-0.01177499, -0.01177499, -0.01177499, ..., -0.01177499,\n",
       "        -0.01177499, -0.01177499],\n",
       "       [-0.00976964, -0.00976964, -0.00976964, ..., -0.00976964,\n",
       "        -0.00976964, -0.00976964],\n",
       "       ...,\n",
       "       [ 2.2321575 ,  1.7321576 ,  1.7321576 , ..., -0.26784244,\n",
       "        -0.26784244, -0.26784244],\n",
       "       [ 2.9875565 , -0.01244344, -0.01244344, ..., -0.01244344,\n",
       "        -0.01244344, -0.01244344],\n",
       "       [ 4.506119  , -0.4938811 , -0.4938811 , ..., -0.4938811 ,\n",
       "        -0.4938811 , -0.4938811 ]], dtype=float32)"
      ]
     },
     "execution_count": 47,
     "metadata": {},
     "output_type": "execute_result"
    }
   ],
   "source": [
    "R = df_R.values\n",
    "mean_user_ratings = np.mean(R, axis = 1)\n",
    "R_norm = R - mean_user_ratings.reshape(-1, 1)\n",
    "R_norm"
   ]
  },
  {
   "cell_type": "markdown",
   "metadata": {},
   "source": [
    "Singular Value Decomposition\n",
    "\n",
    "Here, we use scipy's SVD function to decompose our normalized ratings matrix. Numpy also has a SVD function, but scipy also allows us to set the how many latent factors we want (k). "
   ]
  },
  {
   "cell_type": "code",
   "execution_count": 51,
   "metadata": {},
   "outputs": [],
   "source": [
    "from scipy.sparse.linalg import svds\n",
    "U, sigma, Vt = svds(R_norm, k = 30)"
   ]
  },
  {
   "cell_type": "code",
   "execution_count": 52,
   "metadata": {},
   "outputs": [
    {
     "data": {
      "text/plain": [
       "(610, 30)"
      ]
     },
     "execution_count": 52,
     "metadata": {},
     "output_type": "execute_result"
    }
   ],
   "source": [
    "U.shape"
   ]
  },
  {
   "cell_type": "code",
   "execution_count": 53,
   "metadata": {},
   "outputs": [
    {
     "data": {
      "text/plain": [
       "(30, 9724)"
      ]
     },
     "execution_count": 53,
     "metadata": {},
     "output_type": "execute_result"
    }
   ],
   "source": [
    "Vt.shape"
   ]
  },
  {
   "cell_type": "code",
   "execution_count": 54,
   "metadata": {},
   "outputs": [
    {
     "data": {
      "text/plain": [
       "array([ 79.21219 ,  80.5675  ,  81.54676 ,  82.19736 ,  83.0445  ,\n",
       "        85.116875,  85.74872 ,  86.51713 ,  87.91551 ,  90.33576 ,\n",
       "        90.934074,  92.262726,  93.399796,  97.10067 ,  99.289055,\n",
       "        99.8236  , 101.84795 , 105.97368 , 107.04784 , 109.20842 ,\n",
       "       112.8084  , 120.61529 , 122.64724 , 134.58719 , 139.63722 ,\n",
       "       153.93088 , 163.73082 , 184.86183 , 231.22456 , 474.2061  ],\n",
       "      dtype=float32)"
      ]
     },
     "execution_count": 54,
     "metadata": {},
     "output_type": "execute_result"
    }
   ],
   "source": [
    "sigma"
   ]
  },
  {
   "cell_type": "markdown",
   "metadata": {},
   "source": [
    "Note that sigma here is a list of singular values and not a diagonal matrix. In order to perform our matrix multipication we can easily convert sigma into a diagonal matrix."
   ]
  },
  {
   "cell_type": "code",
   "execution_count": 55,
   "metadata": {},
   "outputs": [],
   "source": [
    "sigma = np.diag(sigma)"
   ]
  },
  {
   "cell_type": "markdown",
   "metadata": {},
   "source": [
    "Now let's generate the rating predictions by multiplying our 3 matrices together and adding back the mean rating we subtracted earlier to normalize ratings matrix R. "
   ]
  },
  {
   "cell_type": "code",
   "execution_count": 69,
   "metadata": {},
   "outputs": [],
   "source": [
    "predicted_ratings = np.dot(np.dot(U, sigma), Vt) + mean_user_ratings.reshape(-1, 1)\n",
    "df_preds = pd.DataFrame(predicted_ratings, columns = df_R.columns)"
   ]
  },
  {
   "cell_type": "code",
   "execution_count": 70,
   "metadata": {},
   "outputs": [
    {
     "data": {
      "text/html": [
       "<div>\n",
       "<style scoped>\n",
       "    .dataframe tbody tr th:only-of-type {\n",
       "        vertical-align: middle;\n",
       "    }\n",
       "\n",
       "    .dataframe tbody tr th {\n",
       "        vertical-align: top;\n",
       "    }\n",
       "\n",
       "    .dataframe thead th {\n",
       "        text-align: right;\n",
       "    }\n",
       "</style>\n",
       "<table border=\"1\" class=\"dataframe\">\n",
       "  <thead>\n",
       "    <tr style=\"text-align: right;\">\n",
       "      <th>movieId</th>\n",
       "      <th>1</th>\n",
       "      <th>2</th>\n",
       "      <th>3</th>\n",
       "      <th>4</th>\n",
       "      <th>5</th>\n",
       "      <th>6</th>\n",
       "      <th>7</th>\n",
       "      <th>8</th>\n",
       "      <th>9</th>\n",
       "      <th>10</th>\n",
       "      <th>...</th>\n",
       "      <th>193565</th>\n",
       "      <th>193567</th>\n",
       "      <th>193571</th>\n",
       "      <th>193573</th>\n",
       "      <th>193579</th>\n",
       "      <th>193581</th>\n",
       "      <th>193583</th>\n",
       "      <th>193585</th>\n",
       "      <th>193587</th>\n",
       "      <th>193609</th>\n",
       "    </tr>\n",
       "  </thead>\n",
       "  <tbody>\n",
       "    <tr>\n",
       "      <th>0</th>\n",
       "      <td>2.673603</td>\n",
       "      <td>1.051826</td>\n",
       "      <td>0.985558</td>\n",
       "      <td>-0.086072</td>\n",
       "      <td>0.122101</td>\n",
       "      <td>2.101631</td>\n",
       "      <td>-0.019406</td>\n",
       "      <td>0.019755</td>\n",
       "      <td>0.160969</td>\n",
       "      <td>1.726027</td>\n",
       "      <td>...</td>\n",
       "      <td>-0.010627</td>\n",
       "      <td>-0.009506</td>\n",
       "      <td>-0.011747</td>\n",
       "      <td>-0.011747</td>\n",
       "      <td>-0.010627</td>\n",
       "      <td>-0.011747</td>\n",
       "      <td>-0.010627</td>\n",
       "      <td>-0.010627</td>\n",
       "      <td>-0.010627</td>\n",
       "      <td>-0.042164</td>\n",
       "    </tr>\n",
       "    <tr>\n",
       "      <th>1</th>\n",
       "      <td>0.270084</td>\n",
       "      <td>-0.032866</td>\n",
       "      <td>0.014413</td>\n",
       "      <td>-0.009994</td>\n",
       "      <td>0.042291</td>\n",
       "      <td>-0.022205</td>\n",
       "      <td>-0.014739</td>\n",
       "      <td>0.005446</td>\n",
       "      <td>0.056570</td>\n",
       "      <td>-0.035256</td>\n",
       "      <td>...</td>\n",
       "      <td>0.007933</td>\n",
       "      <td>0.006519</td>\n",
       "      <td>0.009346</td>\n",
       "      <td>0.009346</td>\n",
       "      <td>0.007933</td>\n",
       "      <td>0.009346</td>\n",
       "      <td>0.007933</td>\n",
       "      <td>0.007933</td>\n",
       "      <td>0.007933</td>\n",
       "      <td>0.014577</td>\n",
       "    </tr>\n",
       "    <tr>\n",
       "      <th>2</th>\n",
       "      <td>-0.080945</td>\n",
       "      <td>0.035863</td>\n",
       "      <td>0.053648</td>\n",
       "      <td>0.008028</td>\n",
       "      <td>-0.010964</td>\n",
       "      <td>0.080076</td>\n",
       "      <td>-0.009024</td>\n",
       "      <td>-0.001583</td>\n",
       "      <td>0.006937</td>\n",
       "      <td>-0.014392</td>\n",
       "      <td>...</td>\n",
       "      <td>0.009266</td>\n",
       "      <td>0.009331</td>\n",
       "      <td>0.009202</td>\n",
       "      <td>0.009202</td>\n",
       "      <td>0.009266</td>\n",
       "      <td>0.009202</td>\n",
       "      <td>0.009266</td>\n",
       "      <td>0.009266</td>\n",
       "      <td>0.009266</td>\n",
       "      <td>0.008447</td>\n",
       "    </tr>\n",
       "    <tr>\n",
       "      <th>3</th>\n",
       "      <td>2.879184</td>\n",
       "      <td>0.068719</td>\n",
       "      <td>0.051349</td>\n",
       "      <td>0.060496</td>\n",
       "      <td>0.262046</td>\n",
       "      <td>0.604343</td>\n",
       "      <td>0.549285</td>\n",
       "      <td>0.029039</td>\n",
       "      <td>0.160018</td>\n",
       "      <td>-0.037984</td>\n",
       "      <td>...</td>\n",
       "      <td>-0.017895</td>\n",
       "      <td>-0.017231</td>\n",
       "      <td>-0.018560</td>\n",
       "      <td>-0.018560</td>\n",
       "      <td>-0.017895</td>\n",
       "      <td>-0.018560</td>\n",
       "      <td>-0.017895</td>\n",
       "      <td>-0.017895</td>\n",
       "      <td>-0.017895</td>\n",
       "      <td>-0.023580</td>\n",
       "    </tr>\n",
       "    <tr>\n",
       "      <th>4</th>\n",
       "      <td>1.399122</td>\n",
       "      <td>0.934423</td>\n",
       "      <td>0.292726</td>\n",
       "      <td>0.108831</td>\n",
       "      <td>0.430248</td>\n",
       "      <td>0.599319</td>\n",
       "      <td>0.434722</td>\n",
       "      <td>0.132197</td>\n",
       "      <td>0.012172</td>\n",
       "      <td>1.155039</td>\n",
       "      <td>...</td>\n",
       "      <td>-0.006577</td>\n",
       "      <td>-0.006308</td>\n",
       "      <td>-0.006847</td>\n",
       "      <td>-0.006847</td>\n",
       "      <td>-0.006577</td>\n",
       "      <td>-0.006847</td>\n",
       "      <td>-0.006577</td>\n",
       "      <td>-0.006577</td>\n",
       "      <td>-0.006577</td>\n",
       "      <td>-0.002686</td>\n",
       "    </tr>\n",
       "  </tbody>\n",
       "</table>\n",
       "<p>5 rows × 9724 columns</p>\n",
       "</div>"
      ],
      "text/plain": [
       "movieId    1         2         3         4         5         6         7       \\\n",
       "0        2.673603  1.051826  0.985558 -0.086072  0.122101  2.101631 -0.019406   \n",
       "1        0.270084 -0.032866  0.014413 -0.009994  0.042291 -0.022205 -0.014739   \n",
       "2       -0.080945  0.035863  0.053648  0.008028 -0.010964  0.080076 -0.009024   \n",
       "3        2.879184  0.068719  0.051349  0.060496  0.262046  0.604343  0.549285   \n",
       "4        1.399122  0.934423  0.292726  0.108831  0.430248  0.599319  0.434722   \n",
       "\n",
       "movieId    8         9         10      ...    193565    193567    193571  \\\n",
       "0        0.019755  0.160969  1.726027  ... -0.010627 -0.009506 -0.011747   \n",
       "1        0.005446  0.056570 -0.035256  ...  0.007933  0.006519  0.009346   \n",
       "2       -0.001583  0.006937 -0.014392  ...  0.009266  0.009331  0.009202   \n",
       "3        0.029039  0.160018 -0.037984  ... -0.017895 -0.017231 -0.018560   \n",
       "4        0.132197  0.012172  1.155039  ... -0.006577 -0.006308 -0.006847   \n",
       "\n",
       "movieId    193573    193579    193581    193583    193585    193587    193609  \n",
       "0       -0.011747 -0.010627 -0.011747 -0.010627 -0.010627 -0.010627 -0.042164  \n",
       "1        0.009346  0.007933  0.009346  0.007933  0.007933  0.007933  0.014577  \n",
       "2        0.009202  0.009266  0.009202  0.009266  0.009266  0.009266  0.008447  \n",
       "3       -0.018560 -0.017895 -0.018560 -0.017895 -0.017895 -0.017895 -0.023580  \n",
       "4       -0.006847 -0.006577 -0.006847 -0.006577 -0.006577 -0.006577 -0.002686  \n",
       "\n",
       "[5 rows x 9724 columns]"
      ]
     },
     "execution_count": 70,
     "metadata": {},
     "output_type": "execute_result"
    }
   ],
   "source": [
    "df_preds.head()"
   ]
  },
  {
   "cell_type": "markdown",
   "metadata": {},
   "source": [
    "Make top-n recommendations for user_id = 3, using our predictions matrix."
   ]
  },
  {
   "cell_type": "code",
   "execution_count": 85,
   "metadata": {},
   "outputs": [
    {
     "data": {
      "text/plain": [
       "movieId\n",
       "1200    0.294680\n",
       "1214    0.265374\n",
       "1127    0.219211\n",
       "2529    0.208552\n",
       "1240    0.207508\n",
       "Name: 2, dtype: float32"
      ]
     },
     "execution_count": 85,
     "metadata": {},
     "output_type": "execute_result"
    }
   ],
   "source": [
    "user_id = 3\n",
    "user_row = user_id - 1\n",
    "sorted_user_predictions = df_preds.iloc[user_row].sort_values(ascending=False)\n",
    "sorted_user_predictions.head()"
   ]
  },
  {
   "cell_type": "code",
   "execution_count": 86,
   "metadata": {},
   "outputs": [
    {
     "data": {
      "text/html": [
       "<div>\n",
       "<style scoped>\n",
       "    .dataframe tbody tr th:only-of-type {\n",
       "        vertical-align: middle;\n",
       "    }\n",
       "\n",
       "    .dataframe tbody tr th {\n",
       "        vertical-align: top;\n",
       "    }\n",
       "\n",
       "    .dataframe thead th {\n",
       "        text-align: right;\n",
       "    }\n",
       "</style>\n",
       "<table border=\"1\" class=\"dataframe\">\n",
       "  <thead>\n",
       "    <tr style=\"text-align: right;\">\n",
       "      <th></th>\n",
       "      <th>movieId</th>\n",
       "      <th>title</th>\n",
       "    </tr>\n",
       "  </thead>\n",
       "  <tbody>\n",
       "    <tr>\n",
       "      <th>0</th>\n",
       "      <td>1</td>\n",
       "      <td>Toy Story (1995)</td>\n",
       "    </tr>\n",
       "    <tr>\n",
       "      <th>1</th>\n",
       "      <td>2</td>\n",
       "      <td>Jumanji (1995)</td>\n",
       "    </tr>\n",
       "    <tr>\n",
       "      <th>2</th>\n",
       "      <td>3</td>\n",
       "      <td>Grumpier Old Men (1995)</td>\n",
       "    </tr>\n",
       "    <tr>\n",
       "      <th>3</th>\n",
       "      <td>4</td>\n",
       "      <td>Waiting to Exhale (1995)</td>\n",
       "    </tr>\n",
       "    <tr>\n",
       "      <th>4</th>\n",
       "      <td>5</td>\n",
       "      <td>Father of the Bride Part II (1995)</td>\n",
       "    </tr>\n",
       "  </tbody>\n",
       "</table>\n",
       "</div>"
      ],
      "text/plain": [
       "   movieId                               title\n",
       "0        1                    Toy Story (1995)\n",
       "1        2                      Jumanji (1995)\n",
       "2        3             Grumpier Old Men (1995)\n",
       "3        4            Waiting to Exhale (1995)\n",
       "4        5  Father of the Bride Part II (1995)"
      ]
     },
     "execution_count": 86,
     "metadata": {},
     "output_type": "execute_result"
    }
   ],
   "source": [
    "# filter movies that have been seen (rated) by user from df_movies\n",
    "unseen_movies = df_ratings[df_ratings['userId']!=user_id]['movieId'].to_list()\n",
    "df_unseen_movies = df_movies[df_movies['movieId'].isin(unseen_movies)]\n",
    "df_unseen_movies.head()"
   ]
  },
  {
   "cell_type": "code",
   "execution_count": 87,
   "metadata": {},
   "outputs": [
    {
     "data": {
      "text/plain": [
       "['Aliens (1986)',\n",
       " 'Alien (1979)',\n",
       " 'Abyss, The (1989)',\n",
       " 'Planet of the Apes (1968)',\n",
       " 'Terminator, The (1984)',\n",
       " 'Thing, The (1982)',\n",
       " 'Army of Darkness (1993)',\n",
       " 'Star Wars: Episode V - The Empire Strikes Back...',\n",
       " 'Predator (1987)',\n",
       " 'Road Warrior, The (Mad Max 2) (1981)']"
      ]
     },
     "execution_count": 87,
     "metadata": {},
     "output_type": "execute_result"
    }
   ],
   "source": [
    "# append the top_n movies from df_unseen_movies with the highest scores in sorted_user_predictions\n",
    "top_n = 10\n",
    "count = 0\n",
    "recommended_movies = []\n",
    "movie_ids = []\n",
    "for index, value in sorted_user_predictions.items():  \n",
    "    recommended_movies.append(df_unseen_movies[df_unseen_movies['movieId']==index]['title'].to_string(index=False).strip())\n",
    "    movie_ids.append(df_unseen_movies[df_unseen_movies['movieId']==index])\n",
    "    count += 1\n",
    "    if count >= top_n:\n",
    "        break\n",
    "\n",
    "recommended_movies"
   ]
  },
  {
   "cell_type": "markdown",
   "metadata": {},
   "source": [
    "Let's put our recommender into a nice function."
   ]
  },
  {
   "cell_type": "code",
   "execution_count": 88,
   "metadata": {},
   "outputs": [],
   "source": [
    "def recommend_movies(df_predictions, user_id, df_movies, df_ratings, top_n=5):\n",
    "    \n",
    "    # Get and sort the user's predictions\n",
    "    user_row = user_id - 1\n",
    "    sorted_user_predictions = df_predictions.iloc[user_row].sort_values(ascending=False)\n",
    "    \n",
    "    # filter movies that have been seen (rated) by user from df_movies\n",
    "    unseen_movies = df_ratings[df_ratings['userId']!=user_id]['movieId'].to_list()\n",
    "    df_unseen_movies = df_movies[df_movies['movieId'].isin(unseen_movies)]\n",
    "\n",
    "    count = 0\n",
    "    recommended_movies = []\n",
    "    movie_ids = []\n",
    "    for index, value in sorted_user_predictions.items():  \n",
    "        recommended_movies.append(df_unseen_movies[df_unseen_movies['movieId']==index]['title'].to_string(index=False).strip())\n",
    "        movie_ids.append(df_unseen_movies[df_unseen_movies['movieId']==index])\n",
    "        count += 1\n",
    "        if count >= top_n:\n",
    "            break\n",
    "    \n",
    "    return recommended_movies"
   ]
  },
  {
   "cell_type": "code",
   "execution_count": 98,
   "metadata": {},
   "outputs": [
    {
     "data": {
      "text/plain": [
       "['Aliens (1986)',\n",
       " 'Alien (1979)',\n",
       " 'Abyss, The (1989)',\n",
       " 'Planet of the Apes (1968)',\n",
       " 'Terminator, The (1984)',\n",
       " 'Thing, The (1982)',\n",
       " 'Army of Darkness (1993)',\n",
       " 'Star Wars: Episode V - The Empire Strikes Back...',\n",
       " 'Predator (1987)',\n",
       " 'Road Warrior, The (Mad Max 2) (1981)']"
      ]
     },
     "execution_count": 98,
     "metadata": {},
     "output_type": "execute_result"
    }
   ],
   "source": [
    "recommendations = recommend_movies(df_predictions=df_preds, user_id=3, df_movies=df_movies, df_ratings=df_ratings, top_n=10)\n",
    "recommendations"
   ]
  },
  {
   "cell_type": "code",
   "execution_count": null,
   "metadata": {},
   "outputs": [],
   "source": []
  }
 ],
 "metadata": {
  "kernelspec": {
   "display_name": "Python 3",
   "language": "python",
   "name": "python3"
  },
  "language_info": {
   "codemirror_mode": {
    "name": "ipython",
    "version": 3
   },
   "file_extension": ".py",
   "mimetype": "text/x-python",
   "name": "python",
   "nbconvert_exporter": "python",
   "pygments_lexer": "ipython3",
   "version": "3.6.8"
  }
 },
 "nbformat": 4,
 "nbformat_minor": 2
}
